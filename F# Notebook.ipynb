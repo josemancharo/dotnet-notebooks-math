{
 "cells": [
  {
   "cell_type": "markdown",
   "metadata": {},
   "source": [
    "### This is a sine function created by using Maclurian polynomials and F# recursive programming and Math.Net Symbolics library\n",
    "\n",
    "For documentation, see\n",
    "https://symbolics.mathdotnet.com/"
   ]
  },
  {
   "cell_type": "code",
   "execution_count": 1,
   "metadata": {},
   "source": [
    "#!fsharp\n",
    "#r \"nuget: MathNet.Symbolics\"\n",
    "#r \"nuget: MathNet.Numerics\"\n",
    "\n",
    "open System.Numerics\n",
    "open MathNet.Numerics\n",
    "open MathNet.Symbolics\n",
    "\n",
    "open Operators\n",
    ""
   ],
   "outputs": [
    {
     "output_type": "execute_result",
     "data": {
      "text/plain": "Installed package MathNet.Symbolics version 0.22.0"
     },
     "execution_count": 1,
     "metadata": {}
    },
    {
     "output_type": "execute_result",
     "data": {
      "text/plain": "Installed package MathNet.Numerics version 4.12.0"
     },
     "execution_count": 1,
     "metadata": {}
    }
   ]
  },
  {
   "cell_type": "code",
   "execution_count": 1,
   "metadata": {},
   "source": [
    "#!fsharp\n",
    "// A quick example of symbolic computation\n",
    "let x = symbol \"x\"\n",
    "let y = symbol \"y\"\n",
    "\n",
    "(1/(x*y)) |> Infix.format |> printfn \"%s\""
   ],
   "outputs": [
    {
     "output_type": "execute_result",
     "data": {
      "text/plain": "1/(x*y)"
     },
     "execution_count": 1,
     "metadata": {}
    },
    {
     "output_type": "execute_result",
     "data": {
      "text/plain": "\r\n"
     },
     "execution_count": 1,
     "metadata": {}
    }
   ]
  },
  {
   "cell_type": "markdown",
   "metadata": {},
   "source": [
    "A Maclurian Polynomial is defined as follows:\n",
    "`f(x) = (f(0)x^0)/0! + (f'(0)x^1)/1! ... (fn'(0)x^n)/n!`\n",
    "\n",
    "It is used to estimate the values of complex funcitons, such as trigs and radicals.\n",
    "\n",
    "The maclurian series for a sine is as follows\n",
    "`summation (n=0; n<infinty)[ (((-1)^n)*x^(2n+1)))/(2n+1)! ]`"
   ]
  },
  {
   "cell_type": "code",
   "execution_count": 1,
   "metadata": {},
   "source": [
    "#!fsharp\n",
    "let theta = (2.*Math.PI) \n",
    "\n",
    "//there is no native factorial function (n!)\n",
    "let factorial n = [1. .. n] |> List.reduce ( * )\n",
    "\n",
    "let hardCodedMaclurianSine x =\n",
    "    (x**1.)/1. - (x**3.)/(factorial 3.) + (x**5.)/(factorial 5.) - (x**7.)/(factorial 7.) + (x**9.)/(factorial 9.) - (x**11.)/(factorial 11.) + (x**13.)/(factorial 13.) - (x**15.)/(factorial 15.) + (x**17.)/(factorial 17.) - (x**19.)/(factorial 19.) + (x**21.)/(factorial 21.) - (x**23.)/(factorial 23.) + (x**25.)/(factorial 25.)\n",
    "\n",
    "//If I go with the Maclurian polynomial until n=25, it is virtually the same value of sine as the system sine\n",
    "\n",
    "Math.Sin theta |> printfn \"using system sine: %f\"\n",
    "hardCodedMaclurianSine theta |> printfn \"using Maclurian sine: %f\"\n",
    "\n",
    ""
   ],
   "outputs": [
    {
     "output_type": "execute_result",
     "data": {
      "text/plain": "using system sine: "
     },
     "execution_count": 1,
     "metadata": {}
    },
    {
     "output_type": "execute_result",
     "data": {
      "text/plain": "-0.000000"
     },
     "execution_count": 1,
     "metadata": {}
    },
    {
     "output_type": "execute_result",
     "data": {
      "text/plain": "\r\n"
     },
     "execution_count": 1,
     "metadata": {}
    },
    {
     "output_type": "execute_result",
     "data": {
      "text/plain": "using Maclurian sine: "
     },
     "execution_count": 1,
     "metadata": {}
    },
    {
     "output_type": "execute_result",
     "data": {
      "text/plain": "0.000000"
     },
     "execution_count": 1,
     "metadata": {}
    },
    {
     "output_type": "execute_result",
     "data": {
      "text/plain": "\r\n"
     },
     "execution_count": 1,
     "metadata": {}
    }
   ]
  }
 ],
 "metadata": {
  "kernelspec": {
   "display_name": ".NET (C#)",
   "language": "C#",
   "name": ".net-csharp"
  },
  "language_info": {
   "file_extension": ".cs",
   "mimetype": "text/x-csharp",
   "name": "C#",
   "pygments_lexer": "csharp",
   "version": "8.0"
  }
 },
 "nbformat": 4,
 "nbformat_minor": 4
}